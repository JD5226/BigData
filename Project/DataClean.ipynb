{
 "cells": [
  {
   "cell_type": "markdown",
   "id": "9207081b",
   "metadata": {},
   "source": [
    "### Data Analysis Goal\n",
    "- Practice data cleaning on raw data.<br>\n",
    "- Analyze the most in-demand job titles or industries in different cities or countries.<br>\n",
    "- Identify the top companies hiring for specific job positions.<br>\n",
    "- Utilize the skills data to determine the most sought-after skills in different job categories.<br>\n",
    "- Build a job recommendation system based on user profiles and job listing data.<br>\n",
    "- Discover patterns in job types or levels across different industries.<br>\n",
    "- Identify skill gaps in the job market to inform educational or training programs.<br>\n",
    "- Explore the relationship between job title and required skills.<br>"
   ]
  },
  {
   "cell_type": "markdown",
   "id": "77dca574",
   "metadata": {},
   "source": [
    "https://www.kaggle.com/code/kunchamanjula/linkedin-jobs-and-skills-eda-project-6"
   ]
  },
  {
   "cell_type": "code",
   "execution_count": 60,
   "id": "dabedd47",
   "metadata": {},
   "outputs": [],
   "source": [
    "import time\n",
    "import pandas as pd\n",
    "import matplotlib.pyplot as plt"
   ]
  },
  {
   "cell_type": "markdown",
   "id": "5b83fb25",
   "metadata": {},
   "source": [
    "## Read CSV Data"
   ]
  },
  {
   "cell_type": "code",
   "execution_count": 3,
   "id": "0028c4e1",
   "metadata": {},
   "outputs": [
    {
     "data": {
      "text/plain": [
       "45.70699095726013"
      ]
     },
     "execution_count": 3,
     "metadata": {},
     "output_type": "execute_result"
    }
   ],
   "source": [
    "start = time.time()\n",
    "job_skill_df = pd.read_csv('data/job_skills.csv')\n",
    "job_summary_df = pd.read_csv('data/job_summary.csv')\n",
    "job_post_df = pd.read_csv('data/linkedin_job_postings.csv')\n",
    "print(\"Read in\",time.time()-start,\"sec\")"
   ]
  },
  {
   "cell_type": "markdown",
   "id": "efdfe0c9",
   "metadata": {},
   "source": [
    "Reading all data require about 20s with pandas"
   ]
  },
  {
   "cell_type": "markdown",
   "id": "77862f65",
   "metadata": {},
   "source": [
    "## Have a peek of CSV data"
   ]
  },
  {
   "cell_type": "code",
   "execution_count": 4,
   "id": "b6dad913",
   "metadata": {},
   "outputs": [
    {
     "data": {
      "text/html": [
       "<div>\n",
       "<style scoped>\n",
       "    .dataframe tbody tr th:only-of-type {\n",
       "        vertical-align: middle;\n",
       "    }\n",
       "\n",
       "    .dataframe tbody tr th {\n",
       "        vertical-align: top;\n",
       "    }\n",
       "\n",
       "    .dataframe thead th {\n",
       "        text-align: right;\n",
       "    }\n",
       "</style>\n",
       "<table border=\"1\" class=\"dataframe\">\n",
       "  <thead>\n",
       "    <tr style=\"text-align: right;\">\n",
       "      <th></th>\n",
       "      <th>job_link</th>\n",
       "      <th>job_skills</th>\n",
       "    </tr>\n",
       "  </thead>\n",
       "  <tbody>\n",
       "    <tr>\n",
       "      <th>0</th>\n",
       "      <td>https://www.linkedin.com/jobs/view/housekeeper...</td>\n",
       "      <td>Building Custodial Services, Cleaning, Janitor...</td>\n",
       "    </tr>\n",
       "    <tr>\n",
       "      <th>1</th>\n",
       "      <td>https://www.linkedin.com/jobs/view/assistant-g...</td>\n",
       "      <td>Customer service, Restaurant management, Food ...</td>\n",
       "    </tr>\n",
       "    <tr>\n",
       "      <th>2</th>\n",
       "      <td>https://www.linkedin.com/jobs/view/school-base...</td>\n",
       "      <td>Applied Behavior Analysis (ABA), Data analysis...</td>\n",
       "    </tr>\n",
       "    <tr>\n",
       "      <th>3</th>\n",
       "      <td>https://www.linkedin.com/jobs/view/electrical-...</td>\n",
       "      <td>Electrical Engineering, Project Controls, Sche...</td>\n",
       "    </tr>\n",
       "    <tr>\n",
       "      <th>4</th>\n",
       "      <td>https://www.linkedin.com/jobs/view/electrical-...</td>\n",
       "      <td>Electrical Assembly, Point to point wiring, St...</td>\n",
       "    </tr>\n",
       "  </tbody>\n",
       "</table>\n",
       "</div>"
      ],
      "text/plain": [
       "                                            job_link  \\\n",
       "0  https://www.linkedin.com/jobs/view/housekeeper...   \n",
       "1  https://www.linkedin.com/jobs/view/assistant-g...   \n",
       "2  https://www.linkedin.com/jobs/view/school-base...   \n",
       "3  https://www.linkedin.com/jobs/view/electrical-...   \n",
       "4  https://www.linkedin.com/jobs/view/electrical-...   \n",
       "\n",
       "                                          job_skills  \n",
       "0  Building Custodial Services, Cleaning, Janitor...  \n",
       "1  Customer service, Restaurant management, Food ...  \n",
       "2  Applied Behavior Analysis (ABA), Data analysis...  \n",
       "3  Electrical Engineering, Project Controls, Sche...  \n",
       "4  Electrical Assembly, Point to point wiring, St...  "
      ]
     },
     "execution_count": 4,
     "metadata": {},
     "output_type": "execute_result"
    }
   ],
   "source": [
    "job_skill_df.head()"
   ]
  },
  {
   "cell_type": "code",
   "execution_count": 5,
   "id": "3214ad84",
   "metadata": {},
   "outputs": [
    {
     "data": {
      "text/html": [
       "<div>\n",
       "<style scoped>\n",
       "    .dataframe tbody tr th:only-of-type {\n",
       "        vertical-align: middle;\n",
       "    }\n",
       "\n",
       "    .dataframe tbody tr th {\n",
       "        vertical-align: top;\n",
       "    }\n",
       "\n",
       "    .dataframe thead th {\n",
       "        text-align: right;\n",
       "    }\n",
       "</style>\n",
       "<table border=\"1\" class=\"dataframe\">\n",
       "  <thead>\n",
       "    <tr style=\"text-align: right;\">\n",
       "      <th></th>\n",
       "      <th>job_link</th>\n",
       "      <th>job_summary</th>\n",
       "    </tr>\n",
       "  </thead>\n",
       "  <tbody>\n",
       "    <tr>\n",
       "      <th>0</th>\n",
       "      <td>https://www.linkedin.com/jobs/view/restaurant-...</td>\n",
       "      <td>Rock N Roll Sushi is hiring a Restaurant Manag...</td>\n",
       "    </tr>\n",
       "    <tr>\n",
       "      <th>1</th>\n",
       "      <td>https://www.linkedin.com/jobs/view/med-surg-re...</td>\n",
       "      <td>Schedule\\n: PRN is required minimum 12 hours p...</td>\n",
       "    </tr>\n",
       "    <tr>\n",
       "      <th>2</th>\n",
       "      <td>https://www.linkedin.com/jobs/view/registered-...</td>\n",
       "      <td>Description\\nIntroduction\\nAre you looking for...</td>\n",
       "    </tr>\n",
       "    <tr>\n",
       "      <th>3</th>\n",
       "      <td>https://uk.linkedin.com/jobs/view/commercial-a...</td>\n",
       "      <td>Commercial account executive\\nSheffield\\nFull ...</td>\n",
       "    </tr>\n",
       "    <tr>\n",
       "      <th>4</th>\n",
       "      <td>https://www.linkedin.com/jobs/view/store-manag...</td>\n",
       "      <td>Address:\\nUSA-CT-Newington-44 Fenn Road\\nStore...</td>\n",
       "    </tr>\n",
       "  </tbody>\n",
       "</table>\n",
       "</div>"
      ],
      "text/plain": [
       "                                            job_link  \\\n",
       "0  https://www.linkedin.com/jobs/view/restaurant-...   \n",
       "1  https://www.linkedin.com/jobs/view/med-surg-re...   \n",
       "2  https://www.linkedin.com/jobs/view/registered-...   \n",
       "3  https://uk.linkedin.com/jobs/view/commercial-a...   \n",
       "4  https://www.linkedin.com/jobs/view/store-manag...   \n",
       "\n",
       "                                         job_summary  \n",
       "0  Rock N Roll Sushi is hiring a Restaurant Manag...  \n",
       "1  Schedule\\n: PRN is required minimum 12 hours p...  \n",
       "2  Description\\nIntroduction\\nAre you looking for...  \n",
       "3  Commercial account executive\\nSheffield\\nFull ...  \n",
       "4  Address:\\nUSA-CT-Newington-44 Fenn Road\\nStore...  "
      ]
     },
     "execution_count": 5,
     "metadata": {},
     "output_type": "execute_result"
    }
   ],
   "source": [
    "job_summary_df.head()"
   ]
  },
  {
   "cell_type": "code",
   "execution_count": 6,
   "id": "32405907",
   "metadata": {
    "scrolled": true
   },
   "outputs": [
    {
     "data": {
      "text/html": [
       "<div>\n",
       "<style scoped>\n",
       "    .dataframe tbody tr th:only-of-type {\n",
       "        vertical-align: middle;\n",
       "    }\n",
       "\n",
       "    .dataframe tbody tr th {\n",
       "        vertical-align: top;\n",
       "    }\n",
       "\n",
       "    .dataframe thead th {\n",
       "        text-align: right;\n",
       "    }\n",
       "</style>\n",
       "<table border=\"1\" class=\"dataframe\">\n",
       "  <thead>\n",
       "    <tr style=\"text-align: right;\">\n",
       "      <th></th>\n",
       "      <th>job_link</th>\n",
       "      <th>last_processed_time</th>\n",
       "      <th>got_summary</th>\n",
       "      <th>got_ner</th>\n",
       "      <th>is_being_worked</th>\n",
       "      <th>job_title</th>\n",
       "      <th>company</th>\n",
       "      <th>job_location</th>\n",
       "      <th>first_seen</th>\n",
       "      <th>search_city</th>\n",
       "      <th>search_country</th>\n",
       "      <th>search_position</th>\n",
       "      <th>job_level</th>\n",
       "      <th>job_type</th>\n",
       "    </tr>\n",
       "  </thead>\n",
       "  <tbody>\n",
       "    <tr>\n",
       "      <th>0</th>\n",
       "      <td>https://www.linkedin.com/jobs/view/account-exe...</td>\n",
       "      <td>2024-01-21 07:12:29.00256+00</td>\n",
       "      <td>t</td>\n",
       "      <td>t</td>\n",
       "      <td>f</td>\n",
       "      <td>Account Executive - Dispensing (NorCal/Norther...</td>\n",
       "      <td>BD</td>\n",
       "      <td>San Diego, CA</td>\n",
       "      <td>2024-01-15</td>\n",
       "      <td>Coronado</td>\n",
       "      <td>United States</td>\n",
       "      <td>Color Maker</td>\n",
       "      <td>Mid senior</td>\n",
       "      <td>Onsite</td>\n",
       "    </tr>\n",
       "    <tr>\n",
       "      <th>1</th>\n",
       "      <td>https://www.linkedin.com/jobs/view/registered-...</td>\n",
       "      <td>2024-01-21 07:39:58.88137+00</td>\n",
       "      <td>t</td>\n",
       "      <td>t</td>\n",
       "      <td>f</td>\n",
       "      <td>Registered Nurse - RN Care Manager</td>\n",
       "      <td>Trinity Health MI</td>\n",
       "      <td>Norton Shores, MI</td>\n",
       "      <td>2024-01-14</td>\n",
       "      <td>Grand Haven</td>\n",
       "      <td>United States</td>\n",
       "      <td>Director Nursing Service</td>\n",
       "      <td>Mid senior</td>\n",
       "      <td>Onsite</td>\n",
       "    </tr>\n",
       "    <tr>\n",
       "      <th>2</th>\n",
       "      <td>https://www.linkedin.com/jobs/view/restaurant-...</td>\n",
       "      <td>2024-01-21 07:40:00.251126+00</td>\n",
       "      <td>t</td>\n",
       "      <td>t</td>\n",
       "      <td>f</td>\n",
       "      <td>RESTAURANT SUPERVISOR - THE FORKLIFT</td>\n",
       "      <td>Wasatch Adaptive Sports</td>\n",
       "      <td>Sandy, UT</td>\n",
       "      <td>2024-01-14</td>\n",
       "      <td>Tooele</td>\n",
       "      <td>United States</td>\n",
       "      <td>Stand-In</td>\n",
       "      <td>Mid senior</td>\n",
       "      <td>Onsite</td>\n",
       "    </tr>\n",
       "    <tr>\n",
       "      <th>3</th>\n",
       "      <td>https://www.linkedin.com/jobs/view/independent...</td>\n",
       "      <td>2024-01-21 07:40:00.308133+00</td>\n",
       "      <td>t</td>\n",
       "      <td>t</td>\n",
       "      <td>f</td>\n",
       "      <td>Independent Real Estate Agent</td>\n",
       "      <td>Howard Hanna | Rand Realty</td>\n",
       "      <td>Englewood Cliffs, NJ</td>\n",
       "      <td>2024-01-16</td>\n",
       "      <td>Pinehurst</td>\n",
       "      <td>United States</td>\n",
       "      <td>Real-Estate Clerk</td>\n",
       "      <td>Mid senior</td>\n",
       "      <td>Onsite</td>\n",
       "    </tr>\n",
       "    <tr>\n",
       "      <th>4</th>\n",
       "      <td>https://www.linkedin.com/jobs/view/group-unit-...</td>\n",
       "      <td>2024-01-19 09:45:09.215838+00</td>\n",
       "      <td>f</td>\n",
       "      <td>f</td>\n",
       "      <td>f</td>\n",
       "      <td>Group/Unit Supervisor (Systems Support Manager...</td>\n",
       "      <td>IRS, Office of Chief Counsel</td>\n",
       "      <td>Chamblee, GA</td>\n",
       "      <td>2024-01-17</td>\n",
       "      <td>Gadsden</td>\n",
       "      <td>United States</td>\n",
       "      <td>Supervisor Travel-Information Center</td>\n",
       "      <td>Mid senior</td>\n",
       "      <td>Onsite</td>\n",
       "    </tr>\n",
       "  </tbody>\n",
       "</table>\n",
       "</div>"
      ],
      "text/plain": [
       "                                            job_link  \\\n",
       "0  https://www.linkedin.com/jobs/view/account-exe...   \n",
       "1  https://www.linkedin.com/jobs/view/registered-...   \n",
       "2  https://www.linkedin.com/jobs/view/restaurant-...   \n",
       "3  https://www.linkedin.com/jobs/view/independent...   \n",
       "4  https://www.linkedin.com/jobs/view/group-unit-...   \n",
       "\n",
       "             last_processed_time got_summary got_ner is_being_worked  \\\n",
       "0   2024-01-21 07:12:29.00256+00           t       t               f   \n",
       "1   2024-01-21 07:39:58.88137+00           t       t               f   \n",
       "2  2024-01-21 07:40:00.251126+00           t       t               f   \n",
       "3  2024-01-21 07:40:00.308133+00           t       t               f   \n",
       "4  2024-01-19 09:45:09.215838+00           f       f               f   \n",
       "\n",
       "                                           job_title  \\\n",
       "0  Account Executive - Dispensing (NorCal/Norther...   \n",
       "1                 Registered Nurse - RN Care Manager   \n",
       "2               RESTAURANT SUPERVISOR - THE FORKLIFT   \n",
       "3                      Independent Real Estate Agent   \n",
       "4  Group/Unit Supervisor (Systems Support Manager...   \n",
       "\n",
       "                        company          job_location  first_seen  \\\n",
       "0                            BD         San Diego, CA  2024-01-15   \n",
       "1             Trinity Health MI     Norton Shores, MI  2024-01-14   \n",
       "2       Wasatch Adaptive Sports             Sandy, UT  2024-01-14   \n",
       "3    Howard Hanna | Rand Realty  Englewood Cliffs, NJ  2024-01-16   \n",
       "4  IRS, Office of Chief Counsel          Chamblee, GA  2024-01-17   \n",
       "\n",
       "   search_city search_country                       search_position  \\\n",
       "0     Coronado  United States                           Color Maker   \n",
       "1  Grand Haven  United States              Director Nursing Service   \n",
       "2       Tooele  United States                              Stand-In   \n",
       "3    Pinehurst  United States                     Real-Estate Clerk   \n",
       "4      Gadsden  United States  Supervisor Travel-Information Center   \n",
       "\n",
       "    job_level job_type  \n",
       "0  Mid senior   Onsite  \n",
       "1  Mid senior   Onsite  \n",
       "2  Mid senior   Onsite  \n",
       "3  Mid senior   Onsite  \n",
       "4  Mid senior   Onsite  "
      ]
     },
     "execution_count": 6,
     "metadata": {},
     "output_type": "execute_result"
    }
   ],
   "source": [
    "job_post_df.head()"
   ]
  },
  {
   "cell_type": "code",
   "execution_count": 7,
   "id": "bb47e5a3",
   "metadata": {},
   "outputs": [
    {
     "data": {
      "text/plain": [
       "584544"
      ]
     },
     "execution_count": 7,
     "metadata": {},
     "output_type": "execute_result"
    }
   ],
   "source": [
    "len(job_post_df['job_title'].value_counts())"
   ]
  },
  {
   "cell_type": "code",
   "execution_count": 8,
   "id": "8864d4cc",
   "metadata": {},
   "outputs": [
    {
     "data": {
      "text/plain": [
       "job_title\n",
       "LEAD SALES ASSOCIATE-FT                                                                                     True\n",
       "Shift Manager                                                                                               True\n",
       "First Year Tax Professional                                                                                 True\n",
       "Assistant Manager                                                                                           True\n",
       "Customer Service Representative                                                                             True\n",
       "                                                                                                           ...  \n",
       "Assistant Salon Manager - Villages at Waterville Landing                                                   False\n",
       "Senior Specialist, Program Scheduler                                                                       False\n",
       "Retail Store Associate Warehouse Part Time Homesense - Sherwood Park Square                                False\n",
       "Ultrasound Technologist, Days                                                                              False\n",
       "On-Demand: Guest Advocate (Cashier), General Merchandise, Fulfillment, Food and Beverage, Style (T2632)    False\n",
       "Name: count, Length: 584544, dtype: bool"
      ]
     },
     "execution_count": 8,
     "metadata": {},
     "output_type": "execute_result"
    }
   ],
   "source": [
    "job_post_df['job_title'].value_counts() > 1"
   ]
  },
  {
   "cell_type": "code",
   "execution_count": 9,
   "id": "bc40cfa7",
   "metadata": {},
   "outputs": [],
   "source": [
    "title = job_post_df['job_title'].value_counts()>1"
   ]
  },
  {
   "cell_type": "markdown",
   "id": "5dab74aa",
   "metadata": {},
   "source": [
    "## See Intersection of Links"
   ]
  },
  {
   "cell_type": "code",
   "execution_count": 10,
   "id": "b7291cf3",
   "metadata": {},
   "outputs": [
    {
     "data": {
      "text/plain": [
       "(1296381, 2)"
      ]
     },
     "execution_count": 10,
     "metadata": {},
     "output_type": "execute_result"
    }
   ],
   "source": [
    "job_skill_df.shape"
   ]
  },
  {
   "cell_type": "code",
   "execution_count": 11,
   "id": "ee04681d",
   "metadata": {},
   "outputs": [
    {
     "data": {
      "text/plain": [
       "(1297332, 2)"
      ]
     },
     "execution_count": 11,
     "metadata": {},
     "output_type": "execute_result"
    }
   ],
   "source": [
    "job_summary_df.shape"
   ]
  },
  {
   "cell_type": "code",
   "execution_count": 12,
   "id": "45108a77",
   "metadata": {},
   "outputs": [
    {
     "data": {
      "text/plain": [
       "(1348454, 14)"
      ]
     },
     "execution_count": 12,
     "metadata": {},
     "output_type": "execute_result"
    }
   ],
   "source": [
    "job_post_df.shape"
   ]
  },
  {
   "cell_type": "markdown",
   "id": "8d55490c",
   "metadata": {},
   "source": [
    "See how many links do both dataset have"
   ]
  },
  {
   "cell_type": "code",
   "execution_count": 13,
   "id": "91e41872",
   "metadata": {},
   "outputs": [],
   "source": [
    "link1 = set(job_skill_df['job_link'])"
   ]
  },
  {
   "cell_type": "code",
   "execution_count": 14,
   "id": "304d03e6",
   "metadata": {},
   "outputs": [],
   "source": [
    "link2 = set(job_summary_df['job_link'])"
   ]
  },
  {
   "cell_type": "code",
   "execution_count": 15,
   "id": "4d4730bf",
   "metadata": {},
   "outputs": [],
   "source": [
    "link3 = set(job_post_df['job_link'])"
   ]
  },
  {
   "cell_type": "code",
   "execution_count": 16,
   "id": "61c30023",
   "metadata": {},
   "outputs": [],
   "source": [
    "link_intersect = link1.intersection(link2).intersection(link3)"
   ]
  },
  {
   "cell_type": "code",
   "execution_count": 17,
   "id": "20de3fe3",
   "metadata": {},
   "outputs": [
    {
     "data": {
      "text/plain": [
       "1296381"
      ]
     },
     "execution_count": 17,
     "metadata": {},
     "output_type": "execute_result"
    }
   ],
   "source": [
    "len(link_intersect)"
   ]
  },
  {
   "cell_type": "markdown",
   "id": "164725f9",
   "metadata": {},
   "source": [
    "We can see 1296381 intersections thus we say there are at least 1348454-1296381=52073 jobs doesn't have enough information"
   ]
  },
  {
   "cell_type": "markdown",
   "id": "c86d3d00",
   "metadata": {},
   "source": [
    "## Data Overall Info Check"
   ]
  },
  {
   "cell_type": "markdown",
   "id": "759cb752",
   "metadata": {},
   "source": [
    "From here we see that the most important and complex set is job_post<br>\n",
    "Let's see exactly what's inside"
   ]
  },
  {
   "cell_type": "code",
   "execution_count": 19,
   "id": "db97a09b",
   "metadata": {},
   "outputs": [
    {
     "name": "stdout",
     "output_type": "stream",
     "text": [
      "<class 'pandas.core.frame.DataFrame'>\n",
      "RangeIndex: 1348454 entries, 0 to 1348453\n",
      "Data columns (total 14 columns):\n",
      " #   Column               Non-Null Count    Dtype \n",
      "---  ------               --------------    ----- \n",
      " 0   job_link             1348454 non-null  object\n",
      " 1   last_processed_time  1348454 non-null  object\n",
      " 2   got_summary          1348454 non-null  object\n",
      " 3   got_ner              1348454 non-null  object\n",
      " 4   is_being_worked      1348454 non-null  object\n",
      " 5   job_title            1348454 non-null  object\n",
      " 6   company              1348443 non-null  object\n",
      " 7   job_location         1348435 non-null  object\n",
      " 8   first_seen           1348454 non-null  object\n",
      " 9   search_city          1348454 non-null  object\n",
      " 10  search_country       1348454 non-null  object\n",
      " 11  search_position      1348454 non-null  object\n",
      " 12  job_level            1348454 non-null  object\n",
      " 13  job_type             1348454 non-null  object\n",
      "dtypes: object(14)\n",
      "memory usage: 144.0+ MB\n"
     ]
    }
   ],
   "source": [
    "job_post_df.info() # we can see there are some null values in [company, job_location] columns"
   ]
  },
  {
   "cell_type": "code",
   "execution_count": 20,
   "id": "ae973ca1",
   "metadata": {},
   "outputs": [
    {
     "data": {
      "text/html": [
       "<div>\n",
       "<style scoped>\n",
       "    .dataframe tbody tr th:only-of-type {\n",
       "        vertical-align: middle;\n",
       "    }\n",
       "\n",
       "    .dataframe tbody tr th {\n",
       "        vertical-align: top;\n",
       "    }\n",
       "\n",
       "    .dataframe thead th {\n",
       "        text-align: right;\n",
       "    }\n",
       "</style>\n",
       "<table border=\"1\" class=\"dataframe\">\n",
       "  <thead>\n",
       "    <tr style=\"text-align: right;\">\n",
       "      <th></th>\n",
       "      <th>job_link</th>\n",
       "      <th>last_processed_time</th>\n",
       "      <th>got_summary</th>\n",
       "      <th>got_ner</th>\n",
       "      <th>is_being_worked</th>\n",
       "      <th>job_title</th>\n",
       "      <th>company</th>\n",
       "      <th>job_location</th>\n",
       "      <th>first_seen</th>\n",
       "      <th>search_city</th>\n",
       "      <th>search_country</th>\n",
       "      <th>search_position</th>\n",
       "      <th>job_level</th>\n",
       "      <th>job_type</th>\n",
       "    </tr>\n",
       "  </thead>\n",
       "  <tbody>\n",
       "    <tr>\n",
       "      <th>count</th>\n",
       "      <td>1348454</td>\n",
       "      <td>1348454</td>\n",
       "      <td>1348454</td>\n",
       "      <td>1348454</td>\n",
       "      <td>1348454</td>\n",
       "      <td>1348454</td>\n",
       "      <td>1348443</td>\n",
       "      <td>1348435</td>\n",
       "      <td>1348454</td>\n",
       "      <td>1348454</td>\n",
       "      <td>1348454</td>\n",
       "      <td>1348454</td>\n",
       "      <td>1348454</td>\n",
       "      <td>1348454</td>\n",
       "    </tr>\n",
       "    <tr>\n",
       "      <th>unique</th>\n",
       "      <td>1348454</td>\n",
       "      <td>722748</td>\n",
       "      <td>2</td>\n",
       "      <td>2</td>\n",
       "      <td>2</td>\n",
       "      <td>584544</td>\n",
       "      <td>90605</td>\n",
       "      <td>29153</td>\n",
       "      <td>6</td>\n",
       "      <td>1018</td>\n",
       "      <td>4</td>\n",
       "      <td>1993</td>\n",
       "      <td>2</td>\n",
       "      <td>3</td>\n",
       "    </tr>\n",
       "    <tr>\n",
       "      <th>top</th>\n",
       "      <td>https://www.linkedin.com/jobs/view/account-exe...</td>\n",
       "      <td>2024-01-19 09:45:09.215838+00</td>\n",
       "      <td>t</td>\n",
       "      <td>t</td>\n",
       "      <td>f</td>\n",
       "      <td>LEAD SALES ASSOCIATE-FT</td>\n",
       "      <td>Health eCareers</td>\n",
       "      <td>New York, NY</td>\n",
       "      <td>2024-01-14</td>\n",
       "      <td>Baytown</td>\n",
       "      <td>United States</td>\n",
       "      <td>Account Executive</td>\n",
       "      <td>Mid senior</td>\n",
       "      <td>Onsite</td>\n",
       "    </tr>\n",
       "    <tr>\n",
       "      <th>freq</th>\n",
       "      <td>1</td>\n",
       "      <td>625540</td>\n",
       "      <td>1297877</td>\n",
       "      <td>1296401</td>\n",
       "      <td>1346978</td>\n",
       "      <td>7325</td>\n",
       "      <td>41598</td>\n",
       "      <td>13436</td>\n",
       "      <td>460035</td>\n",
       "      <td>10052</td>\n",
       "      <td>1149342</td>\n",
       "      <td>19468</td>\n",
       "      <td>1204445</td>\n",
       "      <td>1337633</td>\n",
       "    </tr>\n",
       "  </tbody>\n",
       "</table>\n",
       "</div>"
      ],
      "text/plain": [
       "                                                 job_link  \\\n",
       "count                                             1348454   \n",
       "unique                                            1348454   \n",
       "top     https://www.linkedin.com/jobs/view/account-exe...   \n",
       "freq                                                    1   \n",
       "\n",
       "                  last_processed_time got_summary  got_ner is_being_worked  \\\n",
       "count                         1348454     1348454  1348454         1348454   \n",
       "unique                         722748           2        2               2   \n",
       "top     2024-01-19 09:45:09.215838+00           t        t               f   \n",
       "freq                           625540     1297877  1296401         1346978   \n",
       "\n",
       "                      job_title          company  job_location  first_seen  \\\n",
       "count                   1348454          1348443       1348435     1348454   \n",
       "unique                   584544            90605         29153           6   \n",
       "top     LEAD SALES ASSOCIATE-FT  Health eCareers  New York, NY  2024-01-14   \n",
       "freq                       7325            41598         13436      460035   \n",
       "\n",
       "       search_city search_country    search_position   job_level job_type  \n",
       "count      1348454        1348454            1348454     1348454  1348454  \n",
       "unique        1018              4               1993           2        3  \n",
       "top        Baytown  United States  Account Executive  Mid senior   Onsite  \n",
       "freq         10052        1149342              19468     1204445  1337633  "
      ]
     },
     "execution_count": 20,
     "metadata": {},
     "output_type": "execute_result"
    }
   ],
   "source": [
    "job_post_df.describe()"
   ]
  },
  {
   "cell_type": "markdown",
   "id": "9365e60b",
   "metadata": {},
   "source": [
    "## Data Cleaning"
   ]
  },
  {
   "cell_type": "markdown",
   "id": "494ecc4f",
   "metadata": {},
   "source": [
    "Eventough the data look nice and neet, we still have to filter out some dirty values and pre process. By this we might achieve:\n",
    "- Less error data\n",
    "- Efficiency\n",
    "- Quality\n",
    "- Consistency"
   ]
  },
  {
   "cell_type": "markdown",
   "id": "de8edb11",
   "metadata": {},
   "source": [
    "First let's deal with null values:"
   ]
  },
  {
   "cell_type": "code",
   "execution_count": 21,
   "id": "0fcc0d3a",
   "metadata": {},
   "outputs": [
    {
     "data": {
      "text/html": [
       "<div>\n",
       "<style scoped>\n",
       "    .dataframe tbody tr th:only-of-type {\n",
       "        vertical-align: middle;\n",
       "    }\n",
       "\n",
       "    .dataframe tbody tr th {\n",
       "        vertical-align: top;\n",
       "    }\n",
       "\n",
       "    .dataframe thead th {\n",
       "        text-align: right;\n",
       "    }\n",
       "</style>\n",
       "<table border=\"1\" class=\"dataframe\">\n",
       "  <thead>\n",
       "    <tr style=\"text-align: right;\">\n",
       "      <th></th>\n",
       "      <th>job_link</th>\n",
       "      <th>last_processed_time</th>\n",
       "      <th>got_summary</th>\n",
       "      <th>got_ner</th>\n",
       "      <th>is_being_worked</th>\n",
       "      <th>job_title</th>\n",
       "      <th>company</th>\n",
       "      <th>job_location</th>\n",
       "      <th>first_seen</th>\n",
       "      <th>search_city</th>\n",
       "      <th>search_country</th>\n",
       "      <th>search_position</th>\n",
       "      <th>job_level</th>\n",
       "      <th>job_type</th>\n",
       "    </tr>\n",
       "  </thead>\n",
       "  <tbody>\n",
       "    <tr>\n",
       "      <th>0</th>\n",
       "      <td>False</td>\n",
       "      <td>False</td>\n",
       "      <td>False</td>\n",
       "      <td>False</td>\n",
       "      <td>False</td>\n",
       "      <td>False</td>\n",
       "      <td>False</td>\n",
       "      <td>False</td>\n",
       "      <td>False</td>\n",
       "      <td>False</td>\n",
       "      <td>False</td>\n",
       "      <td>False</td>\n",
       "      <td>False</td>\n",
       "      <td>False</td>\n",
       "    </tr>\n",
       "    <tr>\n",
       "      <th>1</th>\n",
       "      <td>False</td>\n",
       "      <td>False</td>\n",
       "      <td>False</td>\n",
       "      <td>False</td>\n",
       "      <td>False</td>\n",
       "      <td>False</td>\n",
       "      <td>False</td>\n",
       "      <td>False</td>\n",
       "      <td>False</td>\n",
       "      <td>False</td>\n",
       "      <td>False</td>\n",
       "      <td>False</td>\n",
       "      <td>False</td>\n",
       "      <td>False</td>\n",
       "    </tr>\n",
       "    <tr>\n",
       "      <th>2</th>\n",
       "      <td>False</td>\n",
       "      <td>False</td>\n",
       "      <td>False</td>\n",
       "      <td>False</td>\n",
       "      <td>False</td>\n",
       "      <td>False</td>\n",
       "      <td>False</td>\n",
       "      <td>False</td>\n",
       "      <td>False</td>\n",
       "      <td>False</td>\n",
       "      <td>False</td>\n",
       "      <td>False</td>\n",
       "      <td>False</td>\n",
       "      <td>False</td>\n",
       "    </tr>\n",
       "    <tr>\n",
       "      <th>3</th>\n",
       "      <td>False</td>\n",
       "      <td>False</td>\n",
       "      <td>False</td>\n",
       "      <td>False</td>\n",
       "      <td>False</td>\n",
       "      <td>False</td>\n",
       "      <td>False</td>\n",
       "      <td>False</td>\n",
       "      <td>False</td>\n",
       "      <td>False</td>\n",
       "      <td>False</td>\n",
       "      <td>False</td>\n",
       "      <td>False</td>\n",
       "      <td>False</td>\n",
       "    </tr>\n",
       "    <tr>\n",
       "      <th>4</th>\n",
       "      <td>False</td>\n",
       "      <td>False</td>\n",
       "      <td>False</td>\n",
       "      <td>False</td>\n",
       "      <td>False</td>\n",
       "      <td>False</td>\n",
       "      <td>False</td>\n",
       "      <td>False</td>\n",
       "      <td>False</td>\n",
       "      <td>False</td>\n",
       "      <td>False</td>\n",
       "      <td>False</td>\n",
       "      <td>False</td>\n",
       "      <td>False</td>\n",
       "    </tr>\n",
       "    <tr>\n",
       "      <th>...</th>\n",
       "      <td>...</td>\n",
       "      <td>...</td>\n",
       "      <td>...</td>\n",
       "      <td>...</td>\n",
       "      <td>...</td>\n",
       "      <td>...</td>\n",
       "      <td>...</td>\n",
       "      <td>...</td>\n",
       "      <td>...</td>\n",
       "      <td>...</td>\n",
       "      <td>...</td>\n",
       "      <td>...</td>\n",
       "      <td>...</td>\n",
       "      <td>...</td>\n",
       "    </tr>\n",
       "    <tr>\n",
       "      <th>1348449</th>\n",
       "      <td>False</td>\n",
       "      <td>False</td>\n",
       "      <td>False</td>\n",
       "      <td>False</td>\n",
       "      <td>False</td>\n",
       "      <td>False</td>\n",
       "      <td>False</td>\n",
       "      <td>False</td>\n",
       "      <td>False</td>\n",
       "      <td>False</td>\n",
       "      <td>False</td>\n",
       "      <td>False</td>\n",
       "      <td>False</td>\n",
       "      <td>False</td>\n",
       "    </tr>\n",
       "    <tr>\n",
       "      <th>1348450</th>\n",
       "      <td>False</td>\n",
       "      <td>False</td>\n",
       "      <td>False</td>\n",
       "      <td>False</td>\n",
       "      <td>False</td>\n",
       "      <td>False</td>\n",
       "      <td>False</td>\n",
       "      <td>False</td>\n",
       "      <td>False</td>\n",
       "      <td>False</td>\n",
       "      <td>False</td>\n",
       "      <td>False</td>\n",
       "      <td>False</td>\n",
       "      <td>False</td>\n",
       "    </tr>\n",
       "    <tr>\n",
       "      <th>1348451</th>\n",
       "      <td>False</td>\n",
       "      <td>False</td>\n",
       "      <td>False</td>\n",
       "      <td>False</td>\n",
       "      <td>False</td>\n",
       "      <td>False</td>\n",
       "      <td>False</td>\n",
       "      <td>False</td>\n",
       "      <td>False</td>\n",
       "      <td>False</td>\n",
       "      <td>False</td>\n",
       "      <td>False</td>\n",
       "      <td>False</td>\n",
       "      <td>False</td>\n",
       "    </tr>\n",
       "    <tr>\n",
       "      <th>1348452</th>\n",
       "      <td>False</td>\n",
       "      <td>False</td>\n",
       "      <td>False</td>\n",
       "      <td>False</td>\n",
       "      <td>False</td>\n",
       "      <td>False</td>\n",
       "      <td>False</td>\n",
       "      <td>False</td>\n",
       "      <td>False</td>\n",
       "      <td>False</td>\n",
       "      <td>False</td>\n",
       "      <td>False</td>\n",
       "      <td>False</td>\n",
       "      <td>False</td>\n",
       "    </tr>\n",
       "    <tr>\n",
       "      <th>1348453</th>\n",
       "      <td>False</td>\n",
       "      <td>False</td>\n",
       "      <td>False</td>\n",
       "      <td>False</td>\n",
       "      <td>False</td>\n",
       "      <td>False</td>\n",
       "      <td>False</td>\n",
       "      <td>False</td>\n",
       "      <td>False</td>\n",
       "      <td>False</td>\n",
       "      <td>False</td>\n",
       "      <td>False</td>\n",
       "      <td>False</td>\n",
       "      <td>False</td>\n",
       "    </tr>\n",
       "  </tbody>\n",
       "</table>\n",
       "<p>1348454 rows × 14 columns</p>\n",
       "</div>"
      ],
      "text/plain": [
       "         job_link  last_processed_time  got_summary  got_ner  is_being_worked  \\\n",
       "0           False                False        False    False            False   \n",
       "1           False                False        False    False            False   \n",
       "2           False                False        False    False            False   \n",
       "3           False                False        False    False            False   \n",
       "4           False                False        False    False            False   \n",
       "...           ...                  ...          ...      ...              ...   \n",
       "1348449     False                False        False    False            False   \n",
       "1348450     False                False        False    False            False   \n",
       "1348451     False                False        False    False            False   \n",
       "1348452     False                False        False    False            False   \n",
       "1348453     False                False        False    False            False   \n",
       "\n",
       "         job_title  company  job_location  first_seen  search_city  \\\n",
       "0            False    False         False       False        False   \n",
       "1            False    False         False       False        False   \n",
       "2            False    False         False       False        False   \n",
       "3            False    False         False       False        False   \n",
       "4            False    False         False       False        False   \n",
       "...            ...      ...           ...         ...          ...   \n",
       "1348449      False    False         False       False        False   \n",
       "1348450      False    False         False       False        False   \n",
       "1348451      False    False         False       False        False   \n",
       "1348452      False    False         False       False        False   \n",
       "1348453      False    False         False       False        False   \n",
       "\n",
       "         search_country  search_position  job_level  job_type  \n",
       "0                 False            False      False     False  \n",
       "1                 False            False      False     False  \n",
       "2                 False            False      False     False  \n",
       "3                 False            False      False     False  \n",
       "4                 False            False      False     False  \n",
       "...                 ...              ...        ...       ...  \n",
       "1348449           False            False      False     False  \n",
       "1348450           False            False      False     False  \n",
       "1348451           False            False      False     False  \n",
       "1348452           False            False      False     False  \n",
       "1348453           False            False      False     False  \n",
       "\n",
       "[1348454 rows x 14 columns]"
      ]
     },
     "execution_count": 21,
     "metadata": {},
     "output_type": "execute_result"
    }
   ],
   "source": [
    "job_post_df.isnull() # can't see anything. Let's try sum()"
   ]
  },
  {
   "cell_type": "code",
   "execution_count": 22,
   "id": "1062d708",
   "metadata": {},
   "outputs": [
    {
     "data": {
      "text/plain": [
       "job_link                0\n",
       "last_processed_time     0\n",
       "got_summary             0\n",
       "got_ner                 0\n",
       "is_being_worked         0\n",
       "job_title               0\n",
       "company                11\n",
       "job_location           19\n",
       "first_seen              0\n",
       "search_city             0\n",
       "search_country          0\n",
       "search_position         0\n",
       "job_level               0\n",
       "job_type                0\n",
       "dtype: int64"
      ]
     },
     "execution_count": 22,
     "metadata": {},
     "output_type": "execute_result"
    }
   ],
   "source": [
    "job_post_df.isnull().sum() # now we see null values."
   ]
  },
  {
   "cell_type": "markdown",
   "id": "89aa9fd8",
   "metadata": {},
   "source": [
    "By now we should either fill or drop those na values. Since the value is all STRING, there are two ways: <br>\n",
    "- Make up random companies to fill NA. (Not losing information but might result inaccuracy\n",
    "- Drop NA row for more accuracy. (Not harm to accuracy but will lose severay information"
   ]
  },
  {
   "cell_type": "markdown",
   "id": "3be665f3",
   "metadata": {},
   "source": [
    "Here we choose to drop NA rows for accuracy result. Afterall we need to do a search engine and accuracy is our top priority"
   ]
  },
  {
   "cell_type": "code",
   "execution_count": 27,
   "id": "9c8ce00f",
   "metadata": {},
   "outputs": [],
   "source": [
    "job_post_df.dropna(inplace=True)"
   ]
  },
  {
   "cell_type": "code",
   "execution_count": 28,
   "id": "1af4376c",
   "metadata": {},
   "outputs": [
    {
     "name": "stdout",
     "output_type": "stream",
     "text": [
      "<class 'pandas.core.frame.DataFrame'>\n",
      "Index: 1348424 entries, 0 to 1348453\n",
      "Data columns (total 14 columns):\n",
      " #   Column               Non-Null Count    Dtype \n",
      "---  ------               --------------    ----- \n",
      " 0   job_link             1348424 non-null  object\n",
      " 1   last_processed_time  1348424 non-null  object\n",
      " 2   got_summary          1348424 non-null  object\n",
      " 3   got_ner              1348424 non-null  object\n",
      " 4   is_being_worked      1348424 non-null  object\n",
      " 5   job_title            1348424 non-null  object\n",
      " 6   company              1348424 non-null  object\n",
      " 7   job_location         1348424 non-null  object\n",
      " 8   first_seen           1348424 non-null  object\n",
      " 9   search_city          1348424 non-null  object\n",
      " 10  search_country       1348424 non-null  object\n",
      " 11  search_position      1348424 non-null  object\n",
      " 12  job_level            1348424 non-null  object\n",
      " 13  job_type             1348424 non-null  object\n",
      "dtypes: object(14)\n",
      "memory usage: 154.3+ MB\n"
     ]
    }
   ],
   "source": [
    "job_post_df.info() # now we see all na rows are gone. Row's counts drops from 1348454 to 1348424"
   ]
  },
  {
   "cell_type": "code",
   "execution_count": 31,
   "id": "afcd5bdd",
   "metadata": {},
   "outputs": [
    {
     "data": {
      "text/plain": [
       "(1348424, 14)"
      ]
     },
     "execution_count": 31,
     "metadata": {},
     "output_type": "execute_result"
    }
   ],
   "source": [
    "job_post_df.drop_duplicates(inplace=True)\n",
    "job_post_df.shape # We see that there are no duplicate dataset"
   ]
  },
  {
   "cell_type": "code",
   "execution_count": 34,
   "id": "a2538a5c",
   "metadata": {},
   "outputs": [
    {
     "data": {
      "text/plain": [
       "job_link               1348424\n",
       "last_processed_time     722737\n",
       "got_summary                  2\n",
       "got_ner                      2\n",
       "is_being_worked              2\n",
       "job_title               584534\n",
       "company                  90604\n",
       "job_location             29153\n",
       "first_seen                   6\n",
       "search_city               1018\n",
       "search_country               4\n",
       "search_position           1993\n",
       "job_level                    2\n",
       "job_type                     3\n",
       "dtype: int64"
      ]
     },
     "execution_count": 34,
     "metadata": {},
     "output_type": "execute_result"
    }
   ],
   "source": [
    "job_post_df.nunique()"
   ]
  },
  {
   "cell_type": "markdown",
   "id": "d3952eb8",
   "metadata": {},
   "source": [
    "## Time Stamp Fix"
   ]
  },
  {
   "cell_type": "markdown",
   "id": "63a56dd6",
   "metadata": {},
   "source": [
    "The original column [last_processed_time] is object type which means it's read as String. We need to cast it as timestamp for further use."
   ]
  },
  {
   "cell_type": "code",
   "execution_count": 36,
   "id": "cd957df3",
   "metadata": {
    "scrolled": true
   },
   "outputs": [
    {
     "data": {
      "text/html": [
       "<div>\n",
       "<style scoped>\n",
       "    .dataframe tbody tr th:only-of-type {\n",
       "        vertical-align: middle;\n",
       "    }\n",
       "\n",
       "    .dataframe tbody tr th {\n",
       "        vertical-align: top;\n",
       "    }\n",
       "\n",
       "    .dataframe thead th {\n",
       "        text-align: right;\n",
       "    }\n",
       "</style>\n",
       "<table border=\"1\" class=\"dataframe\">\n",
       "  <thead>\n",
       "    <tr style=\"text-align: right;\">\n",
       "      <th></th>\n",
       "      <th>job_link</th>\n",
       "      <th>last_processed_time</th>\n",
       "      <th>got_summary</th>\n",
       "      <th>got_ner</th>\n",
       "      <th>is_being_worked</th>\n",
       "      <th>job_title</th>\n",
       "      <th>company</th>\n",
       "      <th>job_location</th>\n",
       "      <th>first_seen</th>\n",
       "      <th>search_city</th>\n",
       "      <th>search_country</th>\n",
       "      <th>search_position</th>\n",
       "      <th>job_level</th>\n",
       "      <th>job_type</th>\n",
       "    </tr>\n",
       "  </thead>\n",
       "  <tbody>\n",
       "    <tr>\n",
       "      <th>0</th>\n",
       "      <td>https://www.linkedin.com/jobs/view/account-exe...</td>\n",
       "      <td>2024-01-21 07:12:29.00256+00</td>\n",
       "      <td>t</td>\n",
       "      <td>t</td>\n",
       "      <td>f</td>\n",
       "      <td>Account Executive - Dispensing (NorCal/Norther...</td>\n",
       "      <td>BD</td>\n",
       "      <td>San Diego, CA</td>\n",
       "      <td>2024-01-15</td>\n",
       "      <td>Coronado</td>\n",
       "      <td>United States</td>\n",
       "      <td>Color Maker</td>\n",
       "      <td>Mid senior</td>\n",
       "      <td>Onsite</td>\n",
       "    </tr>\n",
       "    <tr>\n",
       "      <th>1</th>\n",
       "      <td>https://www.linkedin.com/jobs/view/registered-...</td>\n",
       "      <td>2024-01-21 07:39:58.88137+00</td>\n",
       "      <td>t</td>\n",
       "      <td>t</td>\n",
       "      <td>f</td>\n",
       "      <td>Registered Nurse - RN Care Manager</td>\n",
       "      <td>Trinity Health MI</td>\n",
       "      <td>Norton Shores, MI</td>\n",
       "      <td>2024-01-14</td>\n",
       "      <td>Grand Haven</td>\n",
       "      <td>United States</td>\n",
       "      <td>Director Nursing Service</td>\n",
       "      <td>Mid senior</td>\n",
       "      <td>Onsite</td>\n",
       "    </tr>\n",
       "    <tr>\n",
       "      <th>2</th>\n",
       "      <td>https://www.linkedin.com/jobs/view/restaurant-...</td>\n",
       "      <td>2024-01-21 07:40:00.251126+00</td>\n",
       "      <td>t</td>\n",
       "      <td>t</td>\n",
       "      <td>f</td>\n",
       "      <td>RESTAURANT SUPERVISOR - THE FORKLIFT</td>\n",
       "      <td>Wasatch Adaptive Sports</td>\n",
       "      <td>Sandy, UT</td>\n",
       "      <td>2024-01-14</td>\n",
       "      <td>Tooele</td>\n",
       "      <td>United States</td>\n",
       "      <td>Stand-In</td>\n",
       "      <td>Mid senior</td>\n",
       "      <td>Onsite</td>\n",
       "    </tr>\n",
       "    <tr>\n",
       "      <th>3</th>\n",
       "      <td>https://www.linkedin.com/jobs/view/independent...</td>\n",
       "      <td>2024-01-21 07:40:00.308133+00</td>\n",
       "      <td>t</td>\n",
       "      <td>t</td>\n",
       "      <td>f</td>\n",
       "      <td>Independent Real Estate Agent</td>\n",
       "      <td>Howard Hanna | Rand Realty</td>\n",
       "      <td>Englewood Cliffs, NJ</td>\n",
       "      <td>2024-01-16</td>\n",
       "      <td>Pinehurst</td>\n",
       "      <td>United States</td>\n",
       "      <td>Real-Estate Clerk</td>\n",
       "      <td>Mid senior</td>\n",
       "      <td>Onsite</td>\n",
       "    </tr>\n",
       "    <tr>\n",
       "      <th>4</th>\n",
       "      <td>https://www.linkedin.com/jobs/view/group-unit-...</td>\n",
       "      <td>2024-01-19 09:45:09.215838+00</td>\n",
       "      <td>f</td>\n",
       "      <td>f</td>\n",
       "      <td>f</td>\n",
       "      <td>Group/Unit Supervisor (Systems Support Manager...</td>\n",
       "      <td>IRS, Office of Chief Counsel</td>\n",
       "      <td>Chamblee, GA</td>\n",
       "      <td>2024-01-17</td>\n",
       "      <td>Gadsden</td>\n",
       "      <td>United States</td>\n",
       "      <td>Supervisor Travel-Information Center</td>\n",
       "      <td>Mid senior</td>\n",
       "      <td>Onsite</td>\n",
       "    </tr>\n",
       "  </tbody>\n",
       "</table>\n",
       "</div>"
      ],
      "text/plain": [
       "                                            job_link  \\\n",
       "0  https://www.linkedin.com/jobs/view/account-exe...   \n",
       "1  https://www.linkedin.com/jobs/view/registered-...   \n",
       "2  https://www.linkedin.com/jobs/view/restaurant-...   \n",
       "3  https://www.linkedin.com/jobs/view/independent...   \n",
       "4  https://www.linkedin.com/jobs/view/group-unit-...   \n",
       "\n",
       "             last_processed_time got_summary got_ner is_being_worked  \\\n",
       "0   2024-01-21 07:12:29.00256+00           t       t               f   \n",
       "1   2024-01-21 07:39:58.88137+00           t       t               f   \n",
       "2  2024-01-21 07:40:00.251126+00           t       t               f   \n",
       "3  2024-01-21 07:40:00.308133+00           t       t               f   \n",
       "4  2024-01-19 09:45:09.215838+00           f       f               f   \n",
       "\n",
       "                                           job_title  \\\n",
       "0  Account Executive - Dispensing (NorCal/Norther...   \n",
       "1                 Registered Nurse - RN Care Manager   \n",
       "2               RESTAURANT SUPERVISOR - THE FORKLIFT   \n",
       "3                      Independent Real Estate Agent   \n",
       "4  Group/Unit Supervisor (Systems Support Manager...   \n",
       "\n",
       "                        company          job_location  first_seen  \\\n",
       "0                            BD         San Diego, CA  2024-01-15   \n",
       "1             Trinity Health MI     Norton Shores, MI  2024-01-14   \n",
       "2       Wasatch Adaptive Sports             Sandy, UT  2024-01-14   \n",
       "3    Howard Hanna | Rand Realty  Englewood Cliffs, NJ  2024-01-16   \n",
       "4  IRS, Office of Chief Counsel          Chamblee, GA  2024-01-17   \n",
       "\n",
       "   search_city search_country                       search_position  \\\n",
       "0     Coronado  United States                           Color Maker   \n",
       "1  Grand Haven  United States              Director Nursing Service   \n",
       "2       Tooele  United States                              Stand-In   \n",
       "3    Pinehurst  United States                     Real-Estate Clerk   \n",
       "4      Gadsden  United States  Supervisor Travel-Information Center   \n",
       "\n",
       "    job_level job_type  \n",
       "0  Mid senior   Onsite  \n",
       "1  Mid senior   Onsite  \n",
       "2  Mid senior   Onsite  \n",
       "3  Mid senior   Onsite  \n",
       "4  Mid senior   Onsite  "
      ]
     },
     "execution_count": 36,
     "metadata": {},
     "output_type": "execute_result"
    }
   ],
   "source": [
    "job_post_df.head()"
   ]
  },
  {
   "cell_type": "code",
   "execution_count": 41,
   "id": "ee91c269",
   "metadata": {},
   "outputs": [],
   "source": [
    "timestamp = pd.to_datetime(job_post_df['last_processed_time'],dayfirst=True,format='mixed')"
   ]
  },
  {
   "cell_type": "code",
   "execution_count": 45,
   "id": "bbdcf05c",
   "metadata": {},
   "outputs": [],
   "source": [
    "job_post_df['date'] = timestamp.dt.date\n",
    "job_post_df['time'] = timestamp.dt.time"
   ]
  },
  {
   "cell_type": "code",
   "execution_count": 48,
   "id": "72e47da7",
   "metadata": {
    "scrolled": true
   },
   "outputs": [
    {
     "data": {
      "text/html": [
       "<div>\n",
       "<style scoped>\n",
       "    .dataframe tbody tr th:only-of-type {\n",
       "        vertical-align: middle;\n",
       "    }\n",
       "\n",
       "    .dataframe tbody tr th {\n",
       "        vertical-align: top;\n",
       "    }\n",
       "\n",
       "    .dataframe thead th {\n",
       "        text-align: right;\n",
       "    }\n",
       "</style>\n",
       "<table border=\"1\" class=\"dataframe\">\n",
       "  <thead>\n",
       "    <tr style=\"text-align: right;\">\n",
       "      <th></th>\n",
       "      <th>job_link</th>\n",
       "      <th>got_summary</th>\n",
       "      <th>got_ner</th>\n",
       "      <th>is_being_worked</th>\n",
       "      <th>job_title</th>\n",
       "      <th>company</th>\n",
       "      <th>job_location</th>\n",
       "      <th>first_seen</th>\n",
       "      <th>search_city</th>\n",
       "      <th>search_country</th>\n",
       "      <th>search_position</th>\n",
       "      <th>job_level</th>\n",
       "      <th>job_type</th>\n",
       "      <th>date</th>\n",
       "      <th>time</th>\n",
       "    </tr>\n",
       "  </thead>\n",
       "  <tbody>\n",
       "    <tr>\n",
       "      <th>0</th>\n",
       "      <td>https://www.linkedin.com/jobs/view/account-exe...</td>\n",
       "      <td>t</td>\n",
       "      <td>t</td>\n",
       "      <td>f</td>\n",
       "      <td>Account Executive - Dispensing (NorCal/Norther...</td>\n",
       "      <td>BD</td>\n",
       "      <td>San Diego, CA</td>\n",
       "      <td>2024-01-15</td>\n",
       "      <td>Coronado</td>\n",
       "      <td>United States</td>\n",
       "      <td>Color Maker</td>\n",
       "      <td>Mid senior</td>\n",
       "      <td>Onsite</td>\n",
       "      <td>2024-01-21</td>\n",
       "      <td>07:12:29.002560</td>\n",
       "    </tr>\n",
       "    <tr>\n",
       "      <th>1</th>\n",
       "      <td>https://www.linkedin.com/jobs/view/registered-...</td>\n",
       "      <td>t</td>\n",
       "      <td>t</td>\n",
       "      <td>f</td>\n",
       "      <td>Registered Nurse - RN Care Manager</td>\n",
       "      <td>Trinity Health MI</td>\n",
       "      <td>Norton Shores, MI</td>\n",
       "      <td>2024-01-14</td>\n",
       "      <td>Grand Haven</td>\n",
       "      <td>United States</td>\n",
       "      <td>Director Nursing Service</td>\n",
       "      <td>Mid senior</td>\n",
       "      <td>Onsite</td>\n",
       "      <td>2024-01-21</td>\n",
       "      <td>07:39:58.881370</td>\n",
       "    </tr>\n",
       "    <tr>\n",
       "      <th>2</th>\n",
       "      <td>https://www.linkedin.com/jobs/view/restaurant-...</td>\n",
       "      <td>t</td>\n",
       "      <td>t</td>\n",
       "      <td>f</td>\n",
       "      <td>RESTAURANT SUPERVISOR - THE FORKLIFT</td>\n",
       "      <td>Wasatch Adaptive Sports</td>\n",
       "      <td>Sandy, UT</td>\n",
       "      <td>2024-01-14</td>\n",
       "      <td>Tooele</td>\n",
       "      <td>United States</td>\n",
       "      <td>Stand-In</td>\n",
       "      <td>Mid senior</td>\n",
       "      <td>Onsite</td>\n",
       "      <td>2024-01-21</td>\n",
       "      <td>07:40:00.251126</td>\n",
       "    </tr>\n",
       "    <tr>\n",
       "      <th>3</th>\n",
       "      <td>https://www.linkedin.com/jobs/view/independent...</td>\n",
       "      <td>t</td>\n",
       "      <td>t</td>\n",
       "      <td>f</td>\n",
       "      <td>Independent Real Estate Agent</td>\n",
       "      <td>Howard Hanna | Rand Realty</td>\n",
       "      <td>Englewood Cliffs, NJ</td>\n",
       "      <td>2024-01-16</td>\n",
       "      <td>Pinehurst</td>\n",
       "      <td>United States</td>\n",
       "      <td>Real-Estate Clerk</td>\n",
       "      <td>Mid senior</td>\n",
       "      <td>Onsite</td>\n",
       "      <td>2024-01-21</td>\n",
       "      <td>07:40:00.308133</td>\n",
       "    </tr>\n",
       "    <tr>\n",
       "      <th>4</th>\n",
       "      <td>https://www.linkedin.com/jobs/view/group-unit-...</td>\n",
       "      <td>f</td>\n",
       "      <td>f</td>\n",
       "      <td>f</td>\n",
       "      <td>Group/Unit Supervisor (Systems Support Manager...</td>\n",
       "      <td>IRS, Office of Chief Counsel</td>\n",
       "      <td>Chamblee, GA</td>\n",
       "      <td>2024-01-17</td>\n",
       "      <td>Gadsden</td>\n",
       "      <td>United States</td>\n",
       "      <td>Supervisor Travel-Information Center</td>\n",
       "      <td>Mid senior</td>\n",
       "      <td>Onsite</td>\n",
       "      <td>2024-01-19</td>\n",
       "      <td>09:45:09.215838</td>\n",
       "    </tr>\n",
       "  </tbody>\n",
       "</table>\n",
       "</div>"
      ],
      "text/plain": [
       "                                            job_link got_summary got_ner  \\\n",
       "0  https://www.linkedin.com/jobs/view/account-exe...           t       t   \n",
       "1  https://www.linkedin.com/jobs/view/registered-...           t       t   \n",
       "2  https://www.linkedin.com/jobs/view/restaurant-...           t       t   \n",
       "3  https://www.linkedin.com/jobs/view/independent...           t       t   \n",
       "4  https://www.linkedin.com/jobs/view/group-unit-...           f       f   \n",
       "\n",
       "  is_being_worked                                          job_title  \\\n",
       "0               f  Account Executive - Dispensing (NorCal/Norther...   \n",
       "1               f                 Registered Nurse - RN Care Manager   \n",
       "2               f               RESTAURANT SUPERVISOR - THE FORKLIFT   \n",
       "3               f                      Independent Real Estate Agent   \n",
       "4               f  Group/Unit Supervisor (Systems Support Manager...   \n",
       "\n",
       "                        company          job_location  first_seen  \\\n",
       "0                            BD         San Diego, CA  2024-01-15   \n",
       "1             Trinity Health MI     Norton Shores, MI  2024-01-14   \n",
       "2       Wasatch Adaptive Sports             Sandy, UT  2024-01-14   \n",
       "3    Howard Hanna | Rand Realty  Englewood Cliffs, NJ  2024-01-16   \n",
       "4  IRS, Office of Chief Counsel          Chamblee, GA  2024-01-17   \n",
       "\n",
       "   search_city search_country                       search_position  \\\n",
       "0     Coronado  United States                           Color Maker   \n",
       "1  Grand Haven  United States              Director Nursing Service   \n",
       "2       Tooele  United States                              Stand-In   \n",
       "3    Pinehurst  United States                     Real-Estate Clerk   \n",
       "4      Gadsden  United States  Supervisor Travel-Information Center   \n",
       "\n",
       "    job_level job_type        date             time  \n",
       "0  Mid senior   Onsite  2024-01-21  07:12:29.002560  \n",
       "1  Mid senior   Onsite  2024-01-21  07:39:58.881370  \n",
       "2  Mid senior   Onsite  2024-01-21  07:40:00.251126  \n",
       "3  Mid senior   Onsite  2024-01-21  07:40:00.308133  \n",
       "4  Mid senior   Onsite  2024-01-19  09:45:09.215838  "
      ]
     },
     "execution_count": 48,
     "metadata": {},
     "output_type": "execute_result"
    }
   ],
   "source": [
    "job_post_df.head()"
   ]
  },
  {
   "cell_type": "code",
   "execution_count": 47,
   "id": "3a440ff2",
   "metadata": {},
   "outputs": [],
   "source": [
    "del job_post_df['last_processed_time']"
   ]
  },
  {
   "cell_type": "markdown",
   "id": "ea941265",
   "metadata": {},
   "source": [
    "## EAD and Visualization"
   ]
  },
  {
   "cell_type": "markdown",
   "id": "fad9863d",
   "metadata": {},
   "source": [
    "#### Let's see top 20 job titles"
   ]
  },
  {
   "cell_type": "code",
   "execution_count": 51,
   "id": "3f27de04",
   "metadata": {
    "scrolled": true
   },
   "outputs": [
    {
     "data": {
      "text/plain": [
       "job_title\n",
       "LEAD SALES ASSOCIATE-FT                                7325\n",
       "Shift Manager                                          5818\n",
       "First Year Tax Professional                            5356\n",
       "Assistant Manager                                      5346\n",
       "Customer Service Representative                        5203\n",
       "LEAD SALES ASSOCIATE-PT                                4924\n",
       "Store Manager                                          4791\n",
       "CUSTOMER SERVICE REPRESENTATIVE                        4218\n",
       "Registered Nurse                                       4190\n",
       "Hourly Supervisor & Training                           2955\n",
       "Travel Allied Health Professional - CT Technologist    2933\n",
       "Host                                                   2871\n",
       "Account Executive                                      2631\n",
       "Senior Accountant                                      2548\n",
       "Restaurant Manager                                     2335\n",
       "Hourly Supervisor and Training                         2230\n",
       "Veterinarian                                           2200\n",
       "OPERATIONS ASSISTANT MANAGER                           2066\n",
       "Executive Assistant                                    2054\n",
       "Assistant General Manager                              2054\n",
       "Name: count, dtype: int64"
      ]
     },
     "execution_count": 51,
     "metadata": {},
     "output_type": "execute_result"
    }
   ],
   "source": [
    "top_title = job_post_df['job_title'].value_counts().head(20) \n",
    "top_title # This is not accurate because a same title can be variate due to different letter"
   ]
  },
  {
   "cell_type": "code",
   "execution_count": 67,
   "id": "8a0e3c1d",
   "metadata": {},
   "outputs": [
    {
     "data": {
      "image/png": "[encoded data removed]",
      "text/plain": [
       "<Figure size 640x480 with 1 Axes>"
      ]
     },
     "metadata": {},
     "output_type": "display_data"
    },
    {
     "data": {
      "text/plain": [
       "<Figure size 800x1000 with 0 Axes>"
      ]
     },
     "metadata": {},
     "output_type": "display_data"
    }
   ],
   "source": [
    "top_title.plot(kind='bar',width=0.8)\n",
    "plt.title('Top 20 Job Titles')\n",
    "plt.xlabel('Job Titles')\n",
    "plt.ylabel('Number of Job Listings')\n",
    "plt.xticks(rotation=45, ha='right')\n",
    "plt.figure(figsize=(8, 10))\n",
    "plt.show()"
   ]
  },
  {
   "cell_type": "markdown",
   "id": "9720328e",
   "metadata": {},
   "source": [
    "#### Top country of These Companies From"
   ]
  },
  {
   "cell_type": "code",
   "execution_count": 69,
   "id": "acc9cf65",
   "metadata": {},
   "outputs": [
    {
     "data": {
      "image/png": "[encoded data removed]",
      "text/plain": [
       "<Figure size 640x480 with 1 Axes>"
      ]
     },
     "metadata": {},
     "output_type": "display_data"
    }
   ],
   "source": [
    "countries = job_post_df[\"search_country\"].value_counts()\n",
    "\n",
    "plt.pie(x=countries,labels=countries.index,autopct=\"%1.2f%%\")\n",
    "plt.title(\"Contries of Job Companies\",fontsize=14)\n",
    "plt.show() # We can see most of the companies from US. Three continents: North america, Australia or Europe"
   ]
  },
  {
   "cell_type": "markdown",
   "id": "136fe1a7",
   "metadata": {},
   "source": [
    "#### Which Job Skill are Most Needed in Overall Perspective"
   ]
  },
  {
   "cell_type": "code",
   "execution_count": 71,
   "id": "89922ba0",
   "metadata": {},
   "outputs": [
    {
     "data": {
      "text/html": [
       "<div>\n",
       "<style scoped>\n",
       "    .dataframe tbody tr th:only-of-type {\n",
       "        vertical-align: middle;\n",
       "    }\n",
       "\n",
       "    .dataframe tbody tr th {\n",
       "        vertical-align: top;\n",
       "    }\n",
       "\n",
       "    .dataframe thead th {\n",
       "        text-align: right;\n",
       "    }\n",
       "</style>\n",
       "<table border=\"1\" class=\"dataframe\">\n",
       "  <thead>\n",
       "    <tr style=\"text-align: right;\">\n",
       "      <th></th>\n",
       "      <th>job_link</th>\n",
       "      <th>job_skills</th>\n",
       "    </tr>\n",
       "  </thead>\n",
       "  <tbody>\n",
       "    <tr>\n",
       "      <th>0</th>\n",
       "      <td>https://www.linkedin.com/jobs/view/housekeeper...</td>\n",
       "      <td>Building Custodial Services, Cleaning, Janitor...</td>\n",
       "    </tr>\n",
       "    <tr>\n",
       "      <th>1</th>\n",
       "      <td>https://www.linkedin.com/jobs/view/assistant-g...</td>\n",
       "      <td>Customer service, Restaurant management, Food ...</td>\n",
       "    </tr>\n",
       "    <tr>\n",
       "      <th>2</th>\n",
       "      <td>https://www.linkedin.com/jobs/view/school-base...</td>\n",
       "      <td>Applied Behavior Analysis (ABA), Data analysis...</td>\n",
       "    </tr>\n",
       "    <tr>\n",
       "      <th>3</th>\n",
       "      <td>https://www.linkedin.com/jobs/view/electrical-...</td>\n",
       "      <td>Electrical Engineering, Project Controls, Sche...</td>\n",
       "    </tr>\n",
       "    <tr>\n",
       "      <th>4</th>\n",
       "      <td>https://www.linkedin.com/jobs/view/electrical-...</td>\n",
       "      <td>Electrical Assembly, Point to point wiring, St...</td>\n",
       "    </tr>\n",
       "  </tbody>\n",
       "</table>\n",
       "</div>"
      ],
      "text/plain": [
       "                                            job_link  \\\n",
       "0  https://www.linkedin.com/jobs/view/housekeeper...   \n",
       "1  https://www.linkedin.com/jobs/view/assistant-g...   \n",
       "2  https://www.linkedin.com/jobs/view/school-base...   \n",
       "3  https://www.linkedin.com/jobs/view/electrical-...   \n",
       "4  https://www.linkedin.com/jobs/view/electrical-...   \n",
       "\n",
       "                                          job_skills  \n",
       "0  Building Custodial Services, Cleaning, Janitor...  \n",
       "1  Customer service, Restaurant management, Food ...  \n",
       "2  Applied Behavior Analysis (ABA), Data analysis...  \n",
       "3  Electrical Engineering, Project Controls, Sche...  \n",
       "4  Electrical Assembly, Point to point wiring, St...  "
      ]
     },
     "execution_count": 71,
     "metadata": {},
     "output_type": "execute_result"
    }
   ],
   "source": [
    "job_skill_df.head()"
   ]
  },
  {
   "cell_type": "code",
   "execution_count": 84,
   "id": "098287a1",
   "metadata": {},
   "outputs": [],
   "source": [
    "skills = job_skill_df['job_skills'].str.lower().str.split(', ').explode()# into a series\n",
    "skills = skills.value_counts()"
   ]
  },
  {
   "cell_type": "code",
   "execution_count": 85,
   "id": "fe7a17aa",
   "metadata": {},
   "outputs": [
    {
     "data": {
      "text/plain": [
       "job_skills\n",
       "communication           370143\n",
       "customer service        278102\n",
       "teamwork                227609\n",
       "communication skills    195949\n",
       "leadership              185187\n",
       "problem solving         149032\n",
       "time management         142911\n",
       "attention to detail     133975\n",
       "problemsolving          129329\n",
       "project management      121563\n",
       "Name: count, dtype: int64"
      ]
     },
     "execution_count": 85,
     "metadata": {},
     "output_type": "execute_result"
    }
   ],
   "source": [
    "top_skills = skills.head(10)\n",
    "top_skills # if we didn't lowercase, there will be some duplicate values"
   ]
  },
  {
   "cell_type": "code",
   "execution_count": 86,
   "id": "3180ac3d",
   "metadata": {},
   "outputs": [
    {
     "data": {
      "image/png": "[encoded data removed]",
      "text/plain": [
       "<Figure size 640x480 with 1 Axes>"
      ]
     },
     "metadata": {},
     "output_type": "display_data"
    },
    {
     "data": {
      "text/plain": [
       "<Figure size 800x1000 with 0 Axes>"
      ]
     },
     "metadata": {},
     "output_type": "display_data"
    }
   ],
   "source": [
    "top_skills.plot(kind='bar')\n",
    "plt.title('Top 10 Job Skills')\n",
    "plt.xlabel('Skills')\n",
    "plt.ylabel('Number of Jobs')\n",
    "plt.xticks(rotation=45, ha='right')\n",
    "plt.figure(figsize=(8, 10))\n",
    "plt.show()"
   ]
  },
  {
   "cell_type": "markdown",
   "id": "a286bce6",
   "metadata": {},
   "source": [
    "#### Find Top 10 skills within Top 5 Job Title"
   ]
  },
  {
   "cell_type": "code",
   "execution_count": 87,
   "id": "69fa2786",
   "metadata": {},
   "outputs": [
    {
     "data": {
      "text/html": [
       "<div>\n",
       "<style scoped>\n",
       "    .dataframe tbody tr th:only-of-type {\n",
       "        vertical-align: middle;\n",
       "    }\n",
       "\n",
       "    .dataframe tbody tr th {\n",
       "        vertical-align: top;\n",
       "    }\n",
       "\n",
       "    .dataframe thead th {\n",
       "        text-align: right;\n",
       "    }\n",
       "</style>\n",
       "<table border=\"1\" class=\"dataframe\">\n",
       "  <thead>\n",
       "    <tr style=\"text-align: right;\">\n",
       "      <th></th>\n",
       "      <th>job_link</th>\n",
       "      <th>job_skills</th>\n",
       "    </tr>\n",
       "  </thead>\n",
       "  <tbody>\n",
       "    <tr>\n",
       "      <th>0</th>\n",
       "      <td>https://www.linkedin.com/jobs/view/housekeeper...</td>\n",
       "      <td>Building Custodial Services, Cleaning, Janitor...</td>\n",
       "    </tr>\n",
       "    <tr>\n",
       "      <th>1</th>\n",
       "      <td>https://www.linkedin.com/jobs/view/assistant-g...</td>\n",
       "      <td>Customer service, Restaurant management, Food ...</td>\n",
       "    </tr>\n",
       "    <tr>\n",
       "      <th>2</th>\n",
       "      <td>https://www.linkedin.com/jobs/view/school-base...</td>\n",
       "      <td>Applied Behavior Analysis (ABA), Data analysis...</td>\n",
       "    </tr>\n",
       "    <tr>\n",
       "      <th>3</th>\n",
       "      <td>https://www.linkedin.com/jobs/view/electrical-...</td>\n",
       "      <td>Electrical Engineering, Project Controls, Sche...</td>\n",
       "    </tr>\n",
       "    <tr>\n",
       "      <th>4</th>\n",
       "      <td>https://www.linkedin.com/jobs/view/electrical-...</td>\n",
       "      <td>Electrical Assembly, Point to point wiring, St...</td>\n",
       "    </tr>\n",
       "  </tbody>\n",
       "</table>\n",
       "</div>"
      ],
      "text/plain": [
       "                                            job_link  \\\n",
       "0  https://www.linkedin.com/jobs/view/housekeeper...   \n",
       "1  https://www.linkedin.com/jobs/view/assistant-g...   \n",
       "2  https://www.linkedin.com/jobs/view/school-base...   \n",
       "3  https://www.linkedin.com/jobs/view/electrical-...   \n",
       "4  https://www.linkedin.com/jobs/view/electrical-...   \n",
       "\n",
       "                                          job_skills  \n",
       "0  Building Custodial Services, Cleaning, Janitor...  \n",
       "1  Customer service, Restaurant management, Food ...  \n",
       "2  Applied Behavior Analysis (ABA), Data analysis...  \n",
       "3  Electrical Engineering, Project Controls, Sche...  \n",
       "4  Electrical Assembly, Point to point wiring, St...  "
      ]
     },
     "execution_count": 87,
     "metadata": {},
     "output_type": "execute_result"
    }
   ],
   "source": [
    "job_skill_df.head()"
   ]
  },
  {
   "cell_type": "code",
   "execution_count": 88,
   "id": "9b647316",
   "metadata": {
    "scrolled": true
   },
   "outputs": [
    {
     "data": {
      "text/html": [
       "<div>\n",
       "<style scoped>\n",
       "    .dataframe tbody tr th:only-of-type {\n",
       "        vertical-align: middle;\n",
       "    }\n",
       "\n",
       "    .dataframe tbody tr th {\n",
       "        vertical-align: top;\n",
       "    }\n",
       "\n",
       "    .dataframe thead th {\n",
       "        text-align: right;\n",
       "    }\n",
       "</style>\n",
       "<table border=\"1\" class=\"dataframe\">\n",
       "  <thead>\n",
       "    <tr style=\"text-align: right;\">\n",
       "      <th></th>\n",
       "      <th>job_link</th>\n",
       "      <th>got_summary</th>\n",
       "      <th>got_ner</th>\n",
       "      <th>is_being_worked</th>\n",
       "      <th>job_title</th>\n",
       "      <th>company</th>\n",
       "      <th>job_location</th>\n",
       "      <th>first_seen</th>\n",
       "      <th>search_city</th>\n",
       "      <th>search_country</th>\n",
       "      <th>search_position</th>\n",
       "      <th>job_level</th>\n",
       "      <th>job_type</th>\n",
       "      <th>date</th>\n",
       "      <th>time</th>\n",
       "    </tr>\n",
       "  </thead>\n",
       "  <tbody>\n",
       "    <tr>\n",
       "      <th>0</th>\n",
       "      <td>https://www.linkedin.com/jobs/view/account-exe...</td>\n",
       "      <td>t</td>\n",
       "      <td>t</td>\n",
       "      <td>f</td>\n",
       "      <td>Account Executive - Dispensing (NorCal/Norther...</td>\n",
       "      <td>BD</td>\n",
       "      <td>San Diego, CA</td>\n",
       "      <td>2024-01-15</td>\n",
       "      <td>Coronado</td>\n",
       "      <td>United States</td>\n",
       "      <td>Color Maker</td>\n",
       "      <td>Mid senior</td>\n",
       "      <td>Onsite</td>\n",
       "      <td>2024-01-21</td>\n",
       "      <td>07:12:29.002560</td>\n",
       "    </tr>\n",
       "    <tr>\n",
       "      <th>1</th>\n",
       "      <td>https://www.linkedin.com/jobs/view/registered-...</td>\n",
       "      <td>t</td>\n",
       "      <td>t</td>\n",
       "      <td>f</td>\n",
       "      <td>Registered Nurse - RN Care Manager</td>\n",
       "      <td>Trinity Health MI</td>\n",
       "      <td>Norton Shores, MI</td>\n",
       "      <td>2024-01-14</td>\n",
       "      <td>Grand Haven</td>\n",
       "      <td>United States</td>\n",
       "      <td>Director Nursing Service</td>\n",
       "      <td>Mid senior</td>\n",
       "      <td>Onsite</td>\n",
       "      <td>2024-01-21</td>\n",
       "      <td>07:39:58.881370</td>\n",
       "    </tr>\n",
       "    <tr>\n",
       "      <th>2</th>\n",
       "      <td>https://www.linkedin.com/jobs/view/restaurant-...</td>\n",
       "      <td>t</td>\n",
       "      <td>t</td>\n",
       "      <td>f</td>\n",
       "      <td>RESTAURANT SUPERVISOR - THE FORKLIFT</td>\n",
       "      <td>Wasatch Adaptive Sports</td>\n",
       "      <td>Sandy, UT</td>\n",
       "      <td>2024-01-14</td>\n",
       "      <td>Tooele</td>\n",
       "      <td>United States</td>\n",
       "      <td>Stand-In</td>\n",
       "      <td>Mid senior</td>\n",
       "      <td>Onsite</td>\n",
       "      <td>2024-01-21</td>\n",
       "      <td>07:40:00.251126</td>\n",
       "    </tr>\n",
       "    <tr>\n",
       "      <th>3</th>\n",
       "      <td>https://www.linkedin.com/jobs/view/independent...</td>\n",
       "      <td>t</td>\n",
       "      <td>t</td>\n",
       "      <td>f</td>\n",
       "      <td>Independent Real Estate Agent</td>\n",
       "      <td>Howard Hanna | Rand Realty</td>\n",
       "      <td>Englewood Cliffs, NJ</td>\n",
       "      <td>2024-01-16</td>\n",
       "      <td>Pinehurst</td>\n",
       "      <td>United States</td>\n",
       "      <td>Real-Estate Clerk</td>\n",
       "      <td>Mid senior</td>\n",
       "      <td>Onsite</td>\n",
       "      <td>2024-01-21</td>\n",
       "      <td>07:40:00.308133</td>\n",
       "    </tr>\n",
       "    <tr>\n",
       "      <th>4</th>\n",
       "      <td>https://www.linkedin.com/jobs/view/group-unit-...</td>\n",
       "      <td>f</td>\n",
       "      <td>f</td>\n",
       "      <td>f</td>\n",
       "      <td>Group/Unit Supervisor (Systems Support Manager...</td>\n",
       "      <td>IRS, Office of Chief Counsel</td>\n",
       "      <td>Chamblee, GA</td>\n",
       "      <td>2024-01-17</td>\n",
       "      <td>Gadsden</td>\n",
       "      <td>United States</td>\n",
       "      <td>Supervisor Travel-Information Center</td>\n",
       "      <td>Mid senior</td>\n",
       "      <td>Onsite</td>\n",
       "      <td>2024-01-19</td>\n",
       "      <td>09:45:09.215838</td>\n",
       "    </tr>\n",
       "  </tbody>\n",
       "</table>\n",
       "</div>"
      ],
      "text/plain": [
       "                                            job_link got_summary got_ner  \\\n",
       "0  https://www.linkedin.com/jobs/view/account-exe...           t       t   \n",
       "1  https://www.linkedin.com/jobs/view/registered-...           t       t   \n",
       "2  https://www.linkedin.com/jobs/view/restaurant-...           t       t   \n",
       "3  https://www.linkedin.com/jobs/view/independent...           t       t   \n",
       "4  https://www.linkedin.com/jobs/view/group-unit-...           f       f   \n",
       "\n",
       "  is_being_worked                                          job_title  \\\n",
       "0               f  Account Executive - Dispensing (NorCal/Norther...   \n",
       "1               f                 Registered Nurse - RN Care Manager   \n",
       "2               f               RESTAURANT SUPERVISOR - THE FORKLIFT   \n",
       "3               f                      Independent Real Estate Agent   \n",
       "4               f  Group/Unit Supervisor (Systems Support Manager...   \n",
       "\n",
       "                        company          job_location  first_seen  \\\n",
       "0                            BD         San Diego, CA  2024-01-15   \n",
       "1             Trinity Health MI     Norton Shores, MI  2024-01-14   \n",
       "2       Wasatch Adaptive Sports             Sandy, UT  2024-01-14   \n",
       "3    Howard Hanna | Rand Realty  Englewood Cliffs, NJ  2024-01-16   \n",
       "4  IRS, Office of Chief Counsel          Chamblee, GA  2024-01-17   \n",
       "\n",
       "   search_city search_country                       search_position  \\\n",
       "0     Coronado  United States                           Color Maker   \n",
       "1  Grand Haven  United States              Director Nursing Service   \n",
       "2       Tooele  United States                              Stand-In   \n",
       "3    Pinehurst  United States                     Real-Estate Clerk   \n",
       "4      Gadsden  United States  Supervisor Travel-Information Center   \n",
       "\n",
       "    job_level job_type        date             time  \n",
       "0  Mid senior   Onsite  2024-01-21  07:12:29.002560  \n",
       "1  Mid senior   Onsite  2024-01-21  07:39:58.881370  \n",
       "2  Mid senior   Onsite  2024-01-21  07:40:00.251126  \n",
       "3  Mid senior   Onsite  2024-01-21  07:40:00.308133  \n",
       "4  Mid senior   Onsite  2024-01-19  09:45:09.215838  "
      ]
     },
     "execution_count": 88,
     "metadata": {},
     "output_type": "execute_result"
    }
   ],
   "source": [
    "job_post_df.head()"
   ]
  },
  {
   "cell_type": "code",
   "execution_count": 90,
   "id": "5d3adfed",
   "metadata": {},
   "outputs": [],
   "source": [
    "job_merge = job_skill_df.merge(job_post_df,on='job_link') # merge on link and drop all rows have NA"
   ]
  },
  {
   "cell_type": "code",
   "execution_count": 91,
   "id": "d8cba7e8",
   "metadata": {},
   "outputs": [],
   "source": [
    "top_titles = job_merge['job_title'].value_counts().nlargest(10).index\n",
    "\n",
    "top_skills_by_title = {}\n",
    "for title in top_titles:\n",
    "    subset = job_merge[job_merge['job_title'] == title]\n",
    "    \n",
    "    skills = subset['job_skills'].str.split(', ').explode()\n",
    "    top_skills = skills.value_counts().nlargest(10)\n",
    "    \n",
    "    top_skills_by_title[title] = top_skills"
   ]
  },
  {
   "cell_type": "code",
   "execution_count": 92,
   "id": "ee5ed2b0",
   "metadata": {},
   "outputs": [
    {
     "name": "stdout",
     "output_type": "stream",
     "text": [
      "Top 10 Skills for LEAD SALES ASSOCIATE-FT:\n",
      "job_skills\n",
      "Customer service             6530\n",
      "Supervisory experience       6176\n",
      "Mathematical calculations    5372\n",
      "Driving                      4652\n",
      "High school diploma          4562\n",
      "Cash handling                4432\n",
      "Cash register operation      4183\n",
      "Fastpaced environment        3991\n",
      "Cleaning                     3350\n",
      "Merchandising                3236\n",
      "Name: count, dtype: int64\n",
      "\n",
      "\n",
      "Top 10 Skills for Shift Manager:\n",
      "job_skills\n",
      "Training                        4410\n",
      "Scheduling                      3816\n",
      "Leadership                      3499\n",
      "Food Safety                     3353\n",
      "Inventory Management            3254\n",
      "Internal Communication          2455\n",
      "Quality Food Production         2451\n",
      "Safety and Security             2132\n",
      "Exceptional Customer Service    2126\n",
      "Communication                   1979\n",
      "Name: count, dtype: int64\n",
      "\n",
      "\n",
      "Top 10 Skills for First Year Tax Professional:\n",
      "job_skills\n",
      "Teamwork                        4546\n",
      "Sales                           4141\n",
      "Marketing                       4024\n",
      "Customer service                3450\n",
      "Tax preparation                 2995\n",
      "Communication                   2899\n",
      "H&R Block Income Tax Course     2882\n",
      "High school diploma             2795\n",
      "Employee Stock Purchase Plan    2630\n",
      "401k Retirement Savings Plan    2507\n",
      "Name: count, dtype: int64\n",
      "\n",
      "\n",
      "Top 10 Skills for Customer Service Representative:\n",
      "job_skills\n",
      "Communication          3244\n",
      "Customer service       3225\n",
      "Teamwork               2720\n",
      "Sales                  1675\n",
      "Problemsolving         1585\n",
      "Customer Service       1540\n",
      "High school diploma    1506\n",
      "Cashiering             1197\n",
      "Retail                 1067\n",
      "Retail experience       984\n",
      "Name: count, dtype: int64\n",
      "\n",
      "\n",
      "Top 10 Skills for Assistant Manager:\n",
      "job_skills\n",
      "Communication           2419\n",
      "Leadership              2403\n",
      "Customer service        2265\n",
      "Teamwork                1325\n",
      "Customer Service        1310\n",
      "Communication skills    1086\n",
      "Sales                   1082\n",
      "Training                1023\n",
      "High school diploma      918\n",
      "Problem solving          761\n",
      "Name: count, dtype: int64\n",
      "\n",
      "\n",
      "Top 10 Skills for LEAD SALES ASSOCIATE-PT:\n",
      "job_skills\n",
      "Customer service               4196\n",
      "Supervisory experience         3698\n",
      "Cashier                        3646\n",
      "Stocker                        3597\n",
      "Mathematical calculations      3137\n",
      "High school diploma            3125\n",
      "IBM cash register functions    2487\n",
      "Planogram implementation       2321\n",
      "Cash handling                  2170\n",
      "Cash handling procedures       2042\n",
      "Name: count, dtype: int64\n",
      "\n",
      "\n",
      "Top 10 Skills for Store Manager:\n",
      "job_skills\n",
      "Communication        2458\n",
      "Leadership           2234\n",
      "Customer service     2176\n",
      "Customer Service     1705\n",
      "Sales                1369\n",
      "Scheduling           1298\n",
      "Merchandising        1258\n",
      "Training             1241\n",
      "Retail management    1116\n",
      "Retail Management     903\n",
      "Name: count, dtype: int64\n",
      "\n",
      "\n",
      "Top 10 Skills for CUSTOMER SERVICE REPRESENTATIVE:\n",
      "job_skills\n",
      "Customer service           2667\n",
      "Merchandising              2016\n",
      "Retail experience          1761\n",
      "Communication skills       1670\n",
      "Relationship management    1646\n",
      "Communication              1634\n",
      "Retail operations          1507\n",
      "Customer Service           1417\n",
      "Problem solving            1367\n",
      "Job knowledge              1334\n",
      "Name: count, dtype: int64\n",
      "\n",
      "\n",
      "Top 10 Skills for Registered Nurse:\n",
      "job_skills\n",
      "Nursing             2215\n",
      "Registered Nurse    1259\n",
      "Communication       1239\n",
      "Patient Care         883\n",
      "Teamwork             880\n",
      "Patient care         748\n",
      "Documentation        561\n",
      "Leadership           522\n",
      "CPR                  414\n",
      "Compassion           409\n",
      "Name: count, dtype: int64\n",
      "\n",
      "\n",
      "Top 10 Skills for Hourly Supervisor & Training:\n",
      "job_skills\n",
      "Communication           2266\n",
      "Leadership              2056\n",
      "Inventory management    1665\n",
      "Customer service        1521\n",
      "Teamwork                1319\n",
      "Training                1297\n",
      "Merchandising            887\n",
      "Basic math skills        853\n",
      "Math skills              738\n",
      "Inventory Management     730\n",
      "Name: count, dtype: int64\n",
      "\n",
      "\n"
     ]
    }
   ],
   "source": [
    "# Display the results\n",
    "for title, skills in top_skills_by_title.items():\n",
    "    print(f\"Top 10 Skills for {title}:\")\n",
    "    print(skills)\n",
    "    print(\"\\n\")"
   ]
  },
  {
   "cell_type": "code",
   "execution_count": null,
   "id": "15302718",
   "metadata": {},
   "outputs": [],
   "source": []
  },
  {
   "cell_type": "code",
   "execution_count": null,
   "id": "f36f3f46",
   "metadata": {},
   "outputs": [],
   "source": []
  },
  {
   "cell_type": "code",
   "execution_count": null,
   "id": "03a7caff",
   "metadata": {},
   "outputs": [],
   "source": []
  },
  {
   "cell_type": "code",
   "execution_count": null,
   "id": "d00cca43",
   "metadata": {},
   "outputs": [],
   "source": []
  },
  {
   "cell_type": "code",
   "execution_count": null,
   "id": "06c0f7df",
   "metadata": {},
   "outputs": [],
   "source": []
  }
 ],
 "metadata": {
  "kernelspec": {
   "display_name": "bigdata",
   "language": "python",
   "name": "bigdata"
  },
  "language_info": {
   "codemirror_mode": {
    "name": "ipython",
    "version": 3
   },
   "file_extension": ".py",
   "mimetype": "text/x-python",
   "name": "python",
   "nbconvert_exporter": "python",
   "pygments_lexer": "ipython3",
   "version": "3.11.9"
  }
 },
 "nbformat": 4,
 "nbformat_minor": 5
}
